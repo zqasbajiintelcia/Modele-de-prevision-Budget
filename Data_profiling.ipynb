{
 "cells": [
  {
   "cell_type": "code",
   "execution_count": 1,
   "metadata": {},
   "outputs": [
    {
     "name": "stdout",
     "output_type": "stream",
     "text": [
      "Collecting https://github.com/pandas-profiling/pandas-profiling/archive/master.zip\n"
     ]
    },
    {
     "name": "stderr",
     "output_type": "stream",
     "text": [
      "  WARNING: Retrying (Retry(total=4, connect=None, read=None, redirect=None, status=None)) after connection broken by 'ConnectTimeoutError(<pip._vendor.urllib3.connection.HTTPSConnection object at 0x000002BA1B6CE600>, 'Connection to codeload.github.com timed out. (connect timeout=15)')': /ydataai/ydata-profiling/zip/refs/heads/master\n",
      "  WARNING: Retrying (Retry(total=3, connect=None, read=None, redirect=None, status=None)) after connection broken by 'ConnectTimeoutError(<pip._vendor.urllib3.connection.HTTPSConnection object at 0x000002BA1B6CE6C0>, 'Connection to codeload.github.com timed out. (connect timeout=15)')': /ydataai/ydata-profiling/zip/refs/heads/master\n",
      "  WARNING: Retrying (Retry(total=2, connect=None, read=None, redirect=None, status=None)) after connection broken by 'ConnectTimeoutError(<pip._vendor.urllib3.connection.HTTPSConnection object at 0x000002BA1B6CEC90>, 'Connection to codeload.github.com timed out. (connect timeout=15)')': /ydataai/ydata-profiling/zip/refs/heads/master\n",
      "  WARNING: Retrying (Retry(total=1, connect=None, read=None, redirect=None, status=None)) after connection broken by 'ConnectTimeoutError(<pip._vendor.urllib3.connection.HTTPSConnection object at 0x000002BA1B6CEE70>, 'Connection to codeload.github.com timed out. (connect timeout=15)')': /ydataai/ydata-profiling/zip/refs/heads/master\n",
      "  WARNING: Retrying (Retry(total=0, connect=None, read=None, redirect=None, status=None)) after connection broken by 'ConnectTimeoutError(<pip._vendor.urllib3.connection.HTTPSConnection object at 0x000002BA1B6CF080>, 'Connection to codeload.github.com timed out. (connect timeout=15)')': /ydataai/ydata-profiling/zip/refs/heads/master\n",
      "ERROR: Could not install packages due to an OSError: HTTPSConnectionPool(host='codeload.github.com', port=443): Max retries exceeded with url: /ydataai/ydata-profiling/zip/refs/heads/master (Caused by ConnectTimeoutError(<pip._vendor.urllib3.connection.HTTPSConnection object at 0x000002BA1B6CF290>, 'Connection to codeload.github.com timed out. (connect timeout=15)'))\n",
      "\n",
      "\n",
      "[notice] A new release of pip is available: 24.0 -> 24.2\n",
      "[notice] To update, run: python.exe -m pip install --upgrade pip\n"
     ]
    }
   ],
   "source": [
    "! pip install https://github.com/pandas-profiling/pandas-profiling/archive/master.zip"
   ]
  },
  {
   "cell_type": "code",
   "execution_count": null,
   "metadata": {},
   "outputs": [],
   "source": [
    "import pandas as pd\n",
    "\n",
    "dataset_budget = pd.read_csv(\"datasets/.csv\", sep=\";\")"
   ]
  },
  {
   "cell_type": "code",
   "execution_count": null,
   "metadata": {},
   "outputs": [],
   "source": [
    "\n",
    "import numpy as np\n",
    "from pandas_profiling import ProfileReport\n",
    "\n",
    "dataset={\n",
    "        \"description\": \"This profiling report was generated for Intelcia Budget Tool Project\",\n",
    "        \"copyright_holder\": \"QASBAJI Zakaria\",\n",
    "        \"copyright_year\": \"2024\",\n",
    "        \"url\": \"https://github.com/zakariaqasbaji/maitrise_densite_pulpe\",\n",
    "    }\n",
    "\n",
    "profile = ProfileReport(dataset_budget, title='Intelcia Budget Data Report', dataset=dataset, html={'style':{'full_width':False}})"
   ]
  },
  {
   "cell_type": "code",
   "execution_count": null,
   "metadata": {},
   "outputs": [],
   "source": []
  }
 ],
 "metadata": {
  "kernelspec": {
   "display_name": "Python 3",
   "language": "python",
   "name": "python3"
  },
  "language_info": {
   "codemirror_mode": {
    "name": "ipython",
    "version": 3
   },
   "file_extension": ".py",
   "mimetype": "text/x-python",
   "name": "python",
   "nbconvert_exporter": "python",
   "pygments_lexer": "ipython3",
   "version": "3.12.4"
  }
 },
 "nbformat": 4,
 "nbformat_minor": 2
}
